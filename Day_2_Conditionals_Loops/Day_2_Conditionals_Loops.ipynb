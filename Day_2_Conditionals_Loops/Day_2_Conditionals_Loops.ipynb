
{
 "cells": [
  {
   "cell_type": "markdown",
   "metadata": {},
   "source": [
    "# Day 2 - Conditional Statements and Loops in Python\n",
    "Learn how Python makes decisions and repeats actions."
   ]
  },
  {
   "cell_type": "code",
   "execution_count": null,
   "metadata": {},
   "outputs": [],
   "source": [
    "# IF Statement\n",
    "age = 20\n",
    "if age >= 18:\n",
    "    print('Eligible to vote')\n",
    "else:\n",
    "    print('Not eligible')"
   ]
  },
  {
   "cell_type": "code",
   "execution_count": null,
   "metadata": {},
   "outputs": [],
   "source": [
    "# FOR loop: Print even numbers 1 to 10\n",
    "for i in range(1, 11):\n",
    "    if i % 2 == 0:\n",
    "        print(i)"
   ]
  },
  {
   "cell_type": "code",
   "execution_count": null,
   "metadata": {},
   "outputs": [],
   "source": [
    "# WHILE loop: Guess the number\n",
    "secret = 5\n",
    "guess = 0\n",
    "while guess != secret:\n",
    "    guess = int(input('Guess the number: '))\n",
    "    if guess == secret:\n",
    "        print('Correct!')\n",
    "    else:\n",
    "        print('Wrong, try again')"
   ]
  }
 ],
 "metadata": {
  "kernelspec": {
   "display_name": "Python 3",
   "language": "python",
   "name": "python3"
  },
  "language_info": {
   "name": "python",
   "version": "3.x"
  }
 },
 "nbformat": 4,
 "nbformat_minor": 2
}

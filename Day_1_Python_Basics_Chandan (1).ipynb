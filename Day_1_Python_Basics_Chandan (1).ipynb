{
 "cells": [
  {
   "cell_type": "markdown",
   "id": "e330dacc",
   "metadata": {},
   "source": [
    "# Day 1 - Python Basics Practice"
   ]
  },
  {
   "cell_type": "code",
   "execution_count": null,
   "id": "b4b96788",
   "metadata": {},
   "outputs": [],
   "source": [
    "# Variable Example\n",
    "a = 10\n",
    "name = \"Chandan\"\n",
    "print(\"Value of a:\", a)\n",
    "print(\"Hello\", name)"
   ]
  },
  {
   "cell_type": "code",
   "execution_count": null,
   "id": "682e029c",
   "metadata": {},
   "outputs": [],
   "source": [
    "# Taking user input\n",
    "num = int(input(\"Enter a number: \"))\n",
    "print(\"You entered:\", num)"
   ]
  },
  {
   "cell_type": "code",
   "execution_count": null,
   "id": "7acd79dd",
   "metadata": {},
   "outputs": [],
   "source": [
    "# Arithmetic Operations\n",
    "x = 5\n",
    "y = 2\n",
    "print(\"Addition:\", x + y)\n",
    "print(\"Floor Division:\", x // y)\n",
    "print(\"Exponentiation:\", x ** y)"
   ]
  },
  {
   "cell_type": "markdown",
   "id": "2e36b722",
   "metadata": {},
   "source": [
    "## 🧠 Practice Problems:\n",
    "1. Write a Python program to take a number and print its square.\n",
    "2. Write a program to calculate the area of a circle given radius.\n",
    "3. Take name and age, and print a message like: \"Hello Chandan, you will turn 30 in 5 years!\""
   ]
  }
 ],
 "metadata": {},
 "nbformat": 4,
 "nbformat_minor": 5
}
